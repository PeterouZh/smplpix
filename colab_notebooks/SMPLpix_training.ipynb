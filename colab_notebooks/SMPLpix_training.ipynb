{
  "nbformat": 4,
  "nbformat_minor": 0,
  "metadata": {
    "accelerator": "GPU",
    "colab": {
      "name": "SMPLpix training.ipynb",
      "provenance": [],
      "collapsed_sections": [],
      "machine_shape": "hm"
    },
    "kernelspec": {
      "display_name": "Python 3",
      "name": "python3"
    },
    "language_info": {
      "name": "python"
    }
  },
  "cells": [
    {
      "cell_type": "code",
      "metadata": {
        "colab": {
          "base_uri": "https://localhost:8080/",
          "height": 445
        },
        "cellView": "form",
        "id": "_mg5dfzyvZfq",
        "outputId": "00b6be99-1217-421d-917a-ea9dfa4b8a9e"
      },
      "source": [
        "from IPython.display import Image\n",
        "Image(url='https://user-images.githubusercontent.com/8117267/116595226-621dc600-a923-11eb-85d4-f52a5b9f265c.gif')\n",
        "\n",
        "# @markdown ###SMPLpix Training Demo.\n",
        "\n",
        "# @markdown **Author**: [Sergey Prokudin](https://ps.is.mpg.de/people/sprokudin). \n",
        "# @markdown [[Project Page](https://sergeyprokudin.github.io/smplpix/)]\n",
        "# @markdown [[Paper](https://arxiv.org/pdf/2008.06872.pdf)]\n",
        "# @markdown [[Video](https://www.youtube.com/watch?v=JY9t4xUAouk)]\n",
        "# @markdown [[GitHub](https://github.com/sergeyprokudin/smplpix)]\n",
        "\n",
        "# @markdown This notebook contains an example of training script for SMPLpix rendering module."
      ],
      "execution_count": 10,
      "outputs": [
        {
          "output_type": "execute_result",
          "data": {
            "text/html": [
              "<img src=\"https://user-images.githubusercontent.com/8117267/116595226-621dc600-a923-11eb-85d4-f52a5b9f265c.gif\"/>"
            ],
            "text/plain": [
              "<IPython.core.display.Image object>"
            ]
          },
          "metadata": {
            "tags": []
          },
          "execution_count": 10
        }
      ]
    },
    {
      "cell_type": "markdown",
      "metadata": {
        "id": "xsWo4DAdyIxZ"
      },
      "source": [
        "### To run the training on the provided [demo dataset](https://www.dropbox.com/s/coapl05ahqalh09/smplpix_data_test_final.zip?dl=0), simply run:"
      ]
    },
    {
      "cell_type": "code",
      "metadata": {
        "colab": {
          "base_uri": "https://localhost:8080/",
          "height": 0
        },
        "id": "NdhVaGJzwnM2",
        "outputId": "291ecb86-2b05-4da8-a8a9-a2ae15b7ec63"
      },
      "source": [
        "!pip3 install git+https://github.com/sergeyprokudin/smplpix\n",
        "!cd smplpix\n",
        "!python smplpix/train.py --workdir='/content/smplpix_logs/' --data_url='https://www.dropbox.com/s/coapl05ahqalh09/smplpix_data_test_final.zip?dl=0'"
      ],
      "execution_count": 1,
      "outputs": [
        {
          "output_type": "stream",
          "text": [
            "Collecting git+https://github.com/sergeyprokudin/smplpix\n",
            "  Cloning https://github.com/sergeyprokudin/smplpix to /tmp/pip-req-build-hf61mgo7\n",
            "  Running command git clone -q https://github.com/sergeyprokudin/smplpix /tmp/pip-req-build-hf61mgo7\n",
            "  fatal: could not read Username for 'https://github.com': No such device or address\n",
            "\u001b[31mERROR: Command errored out with exit status 128: git clone -q https://github.com/sergeyprokudin/smplpix /tmp/pip-req-build-hf61mgo7 Check the logs for full command output.\u001b[0m\n"
          ],
          "name": "stdout"
        }
      ]
    }
  ]
}